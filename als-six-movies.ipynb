{
 "cells": [
  {
   "cell_type": "markdown",
   "metadata": {},
   "source": [
    "## Recommendations with Spark ALS"
   ]
  },
  {
   "cell_type": "code",
   "execution_count": 1,
   "metadata": {
    "collapsed": true
   },
   "outputs": [],
   "source": [
    "import pyspark"
   ]
  },
  {
   "cell_type": "code",
   "execution_count": 2,
   "metadata": {
    "collapsed": true
   },
   "outputs": [],
   "source": [
    "sc = pyspark.SparkContext(\"local[*]\")"
   ]
  },
  {
   "cell_type": "code",
   "execution_count": 3,
   "metadata": {},
   "outputs": [
    {
     "data": {
      "text/plain": [
       "'2.2.0'"
      ]
     },
     "execution_count": 3,
     "metadata": {},
     "output_type": "execute_result"
    }
   ],
   "source": [
    "sc.version"
   ]
  },
  {
   "cell_type": "code",
   "execution_count": 4,
   "metadata": {},
   "outputs": [],
   "source": [
    "from pyspark.mllib.recommendation import ALS\n",
    "from pyspark.mllib.recommendation import Rating"
   ]
  },
  {
   "cell_type": "code",
   "execution_count": 5,
   "metadata": {
    "collapsed": true
   },
   "outputs": [],
   "source": [
    "def expand_user(a, user):\n",
    "    return [Rating(user, item, ranking) for item, ranking in enumerate(a) if ranking != 0]"
   ]
  },
  {
   "cell_type": "code",
   "execution_count": 6,
   "metadata": {
    "collapsed": true
   },
   "outputs": [],
   "source": [
    "def expand_all(a):\n",
    "    return [expand_user(items, user) for user, items in enumerate(a)]"
   ]
  },
  {
   "cell_type": "markdown",
   "metadata": {},
   "source": [
    "### Here we have ratings from eight users for six different movies: Titanic, Dirty Dancing, Die Hard, Terminator 2, Wayne's World, and Zoolander. Or in other words, two romantic films, two action films, and two comedies. Each row is a user, each column is a movie.\n",
    "\n",
    "### The ratings are constructed so that if a user has seen both movies in one of these pairs, their ratings for the two movies are similar.\n",
    "\n",
    "### There is no evidence in this data that anyone likes all three film genres."
   ]
  },
  {
   "cell_type": "code",
   "execution_count": 7,
   "metadata": {
    "collapsed": true,
    "scrolled": true
   },
   "outputs": [],
   "source": [
    "rawdata_old = [\n",
    "    [5,5,0,0,0,0],\n",
    "    [0,0,5,5,0,0],\n",
    "    [0,0,0,0,5,5],\n",
    "    [0,1,5,5,5,0],\n",
    "    [1,1,5,0,5,5],\n",
    "    [5,5,0,5,1,1],\n",
    "    [5,0,0,5,0,1],\n",
    "    [5,5,5,0,1,0]\n",
    "    ]\n",
    "\n",
    "rawdata = [\n",
    "    [5,5,0,0,0,5],\n",
    "    [0,0,5,5,0,5],\n",
    "    [0,0,0,0,5,5],\n",
    "    [0,1,5,5,5,5],\n",
    "    [1,1,5,0,5,5],\n",
    "    [5,5,0,5,1,5],\n",
    "    [5,0,0,5,0,5],\n",
    "    [5,5,5,0,1,5]\n",
    "    ]\n",
    "list_of_ratings = expand_all(rawdata)"
   ]
  },
  {
   "cell_type": "code",
   "execution_count": 8,
   "metadata": {},
   "outputs": [
    {
     "data": {
      "text/plain": [
       "[Rating(user=0, product=0, rating=5.0),\n",
       " Rating(user=0, product=1, rating=5.0),\n",
       " Rating(user=0, product=5, rating=5.0),\n",
       " Rating(user=1, product=2, rating=5.0),\n",
       " Rating(user=1, product=3, rating=5.0)]"
      ]
     },
     "execution_count": 8,
     "metadata": {},
     "output_type": "execute_result"
    }
   ],
   "source": [
    "# construct an RDD of Ratings for every non-zero rating\n",
    "ratings = [val for sublist in list_of_ratings for val in sublist]\n",
    "ratingsRDD = sc.parallelize(ratings)\n",
    "ratingsRDD.take(5)"
   ]
  },
  {
   "cell_type": "code",
   "execution_count": 9,
   "metadata": {},
   "outputs": [
    {
     "data": {
      "text/plain": [
       "[Rating(user=0, product=0, rating=5.0),\n",
       " Rating(user=0, product=1, rating=5.0),\n",
       " Rating(user=0, product=5, rating=5.0),\n",
       " Rating(user=1, product=2, rating=5.0),\n",
       " Rating(user=1, product=3, rating=5.0),\n",
       " Rating(user=1, product=5, rating=5.0),\n",
       " Rating(user=2, product=4, rating=5.0),\n",
       " Rating(user=2, product=5, rating=5.0),\n",
       " Rating(user=3, product=1, rating=1.0),\n",
       " Rating(user=3, product=2, rating=5.0),\n",
       " Rating(user=3, product=3, rating=5.0),\n",
       " Rating(user=3, product=4, rating=5.0),\n",
       " Rating(user=3, product=5, rating=5.0),\n",
       " Rating(user=4, product=0, rating=1.0),\n",
       " Rating(user=4, product=1, rating=1.0),\n",
       " Rating(user=4, product=2, rating=5.0),\n",
       " Rating(user=4, product=4, rating=5.0),\n",
       " Rating(user=4, product=5, rating=5.0),\n",
       " Rating(user=5, product=0, rating=5.0),\n",
       " Rating(user=5, product=1, rating=5.0),\n",
       " Rating(user=5, product=3, rating=5.0),\n",
       " Rating(user=5, product=4, rating=1.0),\n",
       " Rating(user=5, product=5, rating=5.0),\n",
       " Rating(user=6, product=0, rating=5.0),\n",
       " Rating(user=6, product=3, rating=5.0),\n",
       " Rating(user=6, product=5, rating=5.0),\n",
       " Rating(user=7, product=0, rating=5.0),\n",
       " Rating(user=7, product=1, rating=5.0),\n",
       " Rating(user=7, product=2, rating=5.0),\n",
       " Rating(user=7, product=4, rating=1.0),\n",
       " Rating(user=7, product=5, rating=5.0)]"
      ]
     },
     "execution_count": 9,
     "metadata": {},
     "output_type": "execute_result"
    }
   ],
   "source": [
    "ratingsRDD.take(100)"
   ]
  },
  {
   "cell_type": "raw",
   "metadata": {},
   "source": []
  },
  {
   "cell_type": "code",
   "execution_count": 10,
   "metadata": {},
   "outputs": [
    {
     "data": {
      "text/plain": [
       "[Rating(user=0, product=0, rating=5),\n",
       " Rating(user=0, product=1, rating=5),\n",
       " Rating(user=0, product=5, rating=5),\n",
       " Rating(user=1, product=2, rating=5),\n",
       " Rating(user=1, product=3, rating=5),\n",
       " Rating(user=1, product=5, rating=5),\n",
       " Rating(user=2, product=4, rating=5),\n",
       " Rating(user=2, product=5, rating=5),\n",
       " Rating(user=3, product=1, rating=1),\n",
       " Rating(user=3, product=2, rating=5),\n",
       " Rating(user=3, product=3, rating=5),\n",
       " Rating(user=3, product=4, rating=5),\n",
       " Rating(user=3, product=5, rating=5),\n",
       " Rating(user=4, product=0, rating=1),\n",
       " Rating(user=4, product=1, rating=1),\n",
       " Rating(user=4, product=2, rating=5),\n",
       " Rating(user=4, product=4, rating=5),\n",
       " Rating(user=4, product=5, rating=5),\n",
       " Rating(user=5, product=0, rating=5),\n",
       " Rating(user=5, product=1, rating=5),\n",
       " Rating(user=5, product=3, rating=5),\n",
       " Rating(user=5, product=4, rating=1),\n",
       " Rating(user=5, product=5, rating=5),\n",
       " Rating(user=6, product=0, rating=5),\n",
       " Rating(user=6, product=3, rating=5),\n",
       " Rating(user=6, product=5, rating=5),\n",
       " Rating(user=7, product=0, rating=5),\n",
       " Rating(user=7, product=1, rating=5),\n",
       " Rating(user=7, product=2, rating=5),\n",
       " Rating(user=7, product=4, rating=1),\n",
       " Rating(user=7, product=5, rating=5)]"
      ]
     },
     "execution_count": 10,
     "metadata": {},
     "output_type": "execute_result"
    }
   ],
   "source": [
    "ratings"
   ]
  },
  {
   "cell_type": "raw",
   "metadata": {},
   "source": []
  },
  {
   "cell_type": "code",
   "execution_count": 11,
   "metadata": {
    "collapsed": true
   },
   "outputs": [],
   "source": [
    "rank = 4\n",
    "numIterations = 5\n",
    "als_lambda = 0.01\n",
    "model = ALS.train(ratingsRDD, rank, numIterations, als_lambda, seed=5151, nonnegative=True)\n",
    "# there is also a trainImplicit method that one uses when\n",
    "# working with implicit ratings (it uses a different cost function)"
   ]
  },
  {
   "cell_type": "code",
   "execution_count": 12,
   "metadata": {},
   "outputs": [
    {
     "data": {
      "text/plain": [
       "[(0, array('d', [0.6863377690315247, 0.0, 1.7894190549850464, 0.0])),\n",
       " (1, array('d', [1.4597450494766235, 0.0, 0.4064513146877289, 0.0])),\n",
       " (2, array('d', [1.724142074584961, 0.0, 0.0, 0.0])),\n",
       " (3, array('d', [1.7067937850952148, 0.0, 0.0, 0.0])),\n",
       " (4, array('d', [1.7011171579360962, 0.0, 0.0, 0.0])),\n",
       " (5, array('d', [0.4811097979545593, 0.0, 1.8936035633087158, 0.0])),\n",
       " (6, array('d', [0.641482949256897, 0.0, 1.75159752368927, 0.0])),\n",
       " (7, array('d', [0.5459887981414795, 0.0, 1.900052547454834, 0.0]))]"
      ]
     },
     "execution_count": 12,
     "metadata": {},
     "output_type": "execute_result"
    }
   ],
   "source": [
    "# here we see the model's vector of features for each user\n",
    "users = model.userFeatures().collect()\n",
    "sorted(users, key=lambda x: x[0])"
   ]
  },
  {
   "cell_type": "code",
   "execution_count": 13,
   "metadata": {},
   "outputs": [
    {
     "data": {
      "text/plain": [
       "[(0, array('d', [0.6984666585922241, 0.0, 2.5750622749328613, 0.0])),\n",
       " (1, array('d', [0.6036437153816223, 0.0, 2.502629280090332, 0.0])),\n",
       " (2, array('d', [2.9763879776000977, 0.0, 1.5664623975753784, 0.0])),\n",
       " (3, array('d', [2.9261770248413086, 0.0, 1.8994628190994263, 0.0])),\n",
       " (4, array('d', [2.8576128482818604, 0.0, 0.0, 0.0])),\n",
       " (5, array('d', [2.934448003768921, 0.0, 1.6655101776123047, 0.0]))]"
      ]
     },
     "execution_count": 13,
     "metadata": {},
     "output_type": "execute_result"
    }
   ],
   "source": [
    "# and the features for the \"products\"\n",
    "products = model.productFeatures().collect()\n",
    "sorted(products, key=lambda x: x[0])"
   ]
  },
  {
   "cell_type": "code",
   "execution_count": 14,
   "metadata": {},
   "outputs": [
    {
     "data": {
      "text/plain": [
       "[Rating(user=2, product=2, rating=5.131715742469169),\n",
       " Rating(user=2, product=5, rating=5.0594052689798445),\n",
       " Rating(user=2, product=3, rating=5.045144926212743)]"
      ]
     },
     "execution_count": 14,
     "metadata": {},
     "output_type": "execute_result"
    }
   ],
   "source": [
    "# recommend 3 items for user 2\n",
    "model.recommendProducts(2, 3)"
   ]
  },
  {
   "cell_type": "code",
   "execution_count": 15,
   "metadata": {},
   "outputs": [
    {
     "data": {
      "text/plain": [
       "<pyspark.mllib.recommendation.MatrixFactorizationModel at 0x7f3c1c1dbc88>"
      ]
     },
     "execution_count": 15,
     "metadata": {},
     "output_type": "execute_result"
    }
   ],
   "source": [
    "model\n"
   ]
  },
  {
   "cell_type": "markdown",
   "metadata": {},
   "source": [
    "model"
   ]
  },
  {
   "cell_type": "markdown",
   "metadata": {},
   "source": [
    "### Display the original matrix side-by-side with the reconstructed matrix. The values that were originally non-zero should be closely approximated, and the values that were zero (empty) now have predictions."
   ]
  },
  {
   "cell_type": "code",
   "execution_count": 16,
   "metadata": {},
   "outputs": [
    {
     "name": "stdout",
     "output_type": "stream",
     "text": [
      " original      reconstructed\n",
      "5 5 0 0 0 5     5 5 5 5 2 5  \n",
      "0 0 5 5 0 5     2 2 5 5 4 5  \n",
      "0 0 0 0 5 5     1 1 5 5 5 5  \n",
      "0 1 5 5 5 5     1 1 5 5 5 5  \n",
      "1 1 5 0 5 5     1 1 5 5 5 5  \n",
      "5 5 0 5 1 5     5 5 4 5 1 5  \n",
      "5 0 0 5 0 5     5 5 5 5 2 5  \n",
      "5 5 5 0 1 5     5 5 5 5 2 5  \n"
     ]
    }
   ],
   "source": [
    "import sys\n",
    "print(\" original      reconstructed\")\n",
    "for user in range(0, len(rawdata)):\n",
    "    for product in range (0, len(rawdata[0])):\n",
    "        sys.stdout.write(\"%d \" % rawdata[user][product])\n",
    "    sys.stdout.write(\"    \")\n",
    "    for product in range (0, len(rawdata[0])):\n",
    "        sys.stdout.write(\"%0.0f \" % model.predict(user, product))\n",
    "    print(\" \")"
   ]
  },
  {
   "cell_type": "code",
   "execution_count": 17,
   "metadata": {
    "scrolled": true
   },
   "outputs": [
    {
     "name": "stdout",
     "output_type": "stream",
     "text": [
      " original         errors        predictions\n",
      "5 5 0 0 0 5     - - - - - -     - - 5 5 2 -  \n",
      "0 0 5 5 0 5     - - - - - -     2 2 - - 4 -  \n",
      "0 0 0 0 5 5     - - - - - -     1 1 5 5 - -  \n",
      "0 1 5 5 5 5     - - - - - -     1 - - - - -  \n",
      "1 1 5 0 5 5     - - - - - -     - - - 5 - -  \n",
      "5 5 0 5 1 5     - - - - - -     - - 4 - - -  \n",
      "5 0 0 5 0 5     - - - - - -     - 5 5 - 2 -  \n",
      "5 5 5 0 1 5     - - - - 2 -     - - - 5 - -  \n"
     ]
    }
   ],
   "source": [
    "print(\" original         errors        predictions\")\n",
    "for user in range(0, len(rawdata)):\n",
    "    for product in range (0, len(rawdata[0])):\n",
    "        sys.stdout.write(\"%d \" % rawdata[user][product])\n",
    "    sys.stdout.write(\"    \")\n",
    "    for product in range (0, len(rawdata[0])):\n",
    "        if rawdata[user][product] != 0:\n",
    "            prediction = model.predict(user, product)\n",
    "            if rawdata[user][product] != round(prediction, 0):\n",
    "                sys.stdout.write(\"%0.0f \" % prediction)\n",
    "            else:\n",
    "                sys.stdout.write(\"- \")\n",
    "        else:\n",
    "            sys.stdout.write(\"- \")\n",
    "    sys.stdout.write(\"    \")\n",
    "    for product in range (0, len(rawdata[0])):\n",
    "        if rawdata[user][product] == 0:\n",
    "            prediction = model.predict(user, product)\n",
    "            sys.stdout.write(\"%0.0f \" % prediction)\n",
    "        else:\n",
    "            sys.stdout.write(\"- \")\n",
    "    print(\" \")"
   ]
  },
  {
   "cell_type": "markdown",
   "metadata": {},
   "source": [
    "### Compute the mean squared error of the reconstructed matrix. This can be used to decide if the rank is sufficiently large."
   ]
  },
  {
   "cell_type": "code",
   "execution_count": 18,
   "metadata": {},
   "outputs": [
    {
     "data": {
      "text/plain": [
       "[(0, 0), (0, 1), (0, 5), (1, 2), (1, 3)]"
      ]
     },
     "execution_count": 18,
     "metadata": {},
     "output_type": "execute_result"
    }
   ],
   "source": [
    "evalRDD = ratingsRDD.map(lambda p: (p[0], p[1]))\n",
    "evalRDD.take(5)"
   ]
  },
  {
   "cell_type": "code",
   "execution_count": 19,
   "metadata": {},
   "outputs": [
    {
     "data": {
      "text/plain": [
       "[(0, 0),\n",
       " (0, 1),\n",
       " (0, 5),\n",
       " (1, 2),\n",
       " (1, 3),\n",
       " (1, 5),\n",
       " (2, 4),\n",
       " (2, 5),\n",
       " (3, 1),\n",
       " (3, 2),\n",
       " (3, 3),\n",
       " (3, 4),\n",
       " (3, 5),\n",
       " (4, 0),\n",
       " (4, 1),\n",
       " (4, 2),\n",
       " (4, 4),\n",
       " (4, 5),\n",
       " (5, 0),\n",
       " (5, 1),\n",
       " (5, 3),\n",
       " (5, 4),\n",
       " (5, 5),\n",
       " (6, 0),\n",
       " (6, 3),\n",
       " (6, 5),\n",
       " (7, 0),\n",
       " (7, 1),\n",
       " (7, 2),\n",
       " (7, 4),\n",
       " (7, 5)]"
      ]
     },
     "execution_count": 19,
     "metadata": {},
     "output_type": "execute_result"
    }
   ],
   "source": [
    "evalRDD.take(100)"
   ]
  },
  {
   "cell_type": "code",
   "execution_count": 20,
   "metadata": {},
   "outputs": [],
   "source": [
    "evalRDD?"
   ]
  },
  {
   "cell_type": "code",
   "execution_count": 21,
   "metadata": {},
   "outputs": [],
   "source": [
    "ratingsRDD?"
   ]
  },
  {
   "cell_type": "code",
   "execution_count": 22,
   "metadata": {},
   "outputs": [
    {
     "data": {
      "text/plain": [
       "PythonRDD[142] at RDD at PythonRDD.scala:48"
      ]
     },
     "execution_count": 22,
     "metadata": {},
     "output_type": "execute_result"
    }
   ],
   "source": [
    "evalRDD.map(lambda r: ((r[0], r[1]), r[2]))"
   ]
  },
  {
   "cell_type": "code",
   "execution_count": 23,
   "metadata": {},
   "outputs": [
    {
     "data": {
      "text/plain": [
       "[((0, 0), 5.087249550739095),\n",
       " ((0, 1), 4.892556002262072),\n",
       " ((0, 5), 4.994318144336759),\n",
       " ((1, 2), 4.981458316526886),\n",
       " ((1, 3), 5.043511585927757)]"
      ]
     },
     "execution_count": 23,
     "metadata": {},
     "output_type": "execute_result"
    }
   ],
   "source": [
    "predictions = model.predictAll(evalRDD).map(lambda r: ((r[0], r[1]), r[2]))\n",
    "predictions.take(5)"
   ]
  },
  {
   "cell_type": "code",
   "execution_count": null,
   "metadata": {
    "collapsed": true
   },
   "outputs": [],
   "source": []
  },
  {
   "cell_type": "code",
   "execution_count": 24,
   "metadata": {},
   "outputs": [
    {
     "data": {
      "text/plain": [
       "PythonRDD[159] at RDD at PythonRDD.scala:48"
      ]
     },
     "execution_count": 24,
     "metadata": {},
     "output_type": "execute_result"
    }
   ],
   "source": [
    "predictions"
   ]
  },
  {
   "cell_type": "code",
   "execution_count": 25,
   "metadata": {},
   "outputs": [
    {
     "data": {
      "text/plain": [
       "[((4, 2), (5.0, 5.063184657370243)),\n",
       " ((5, 1), (5.0, 5.029406628363571)),\n",
       " ((4, 5), (5.0, 4.991839848282638)),\n",
       " ((3, 1), (1.0, 1.0302953418251377)),\n",
       " ((4, 4), (5.0, 4.861134246950911))]"
      ]
     },
     "execution_count": 25,
     "metadata": {},
     "output_type": "execute_result"
    }
   ],
   "source": [
    "ratingsAndPreds = ratingsRDD.map(lambda r: ((r[0], r[1]), r[2])).join(predictions)\n",
    "ratingsAndPreds.take(5)"
   ]
  },
  {
   "cell_type": "code",
   "execution_count": 26,
   "metadata": {},
   "outputs": [
    {
     "data": {
      "text/plain": [
       "0.03812473925449567"
      ]
     },
     "execution_count": 26,
     "metadata": {},
     "output_type": "execute_result"
    }
   ],
   "source": [
    "ratingsAndPreds.map(lambda r: (r[1][0] - r[1][1])**2).mean()"
   ]
  },
  {
   "cell_type": "markdown",
   "metadata": {},
   "source": [
    "With a larger dataset we would separate the rating data into training and test sets, and see how well our predicted ratings match the actual data."
   ]
  },
  {
   "cell_type": "markdown",
   "metadata": {
    "collapsed": true
   },
   "source": [
    "### Questions"
   ]
  },
  {
   "cell_type": "raw",
   "metadata": {},
   "source": [
    "How does lambda affect the results?\n",
    "\n",
    "* try setting lambda to 0.01 (this is the default in some versions of spark)\n",
    "* can you get good results? what if you increase the rank?\n",
    "\n",
    "What happens as you increase (or decrease) the rank?\n",
    "\n",
    "How sensitive are the results to the random seed?\n",
    "\n",
    "What would happen if one movie was universally loved, or hated?\n",
    "\n",
    "What happens if you remove some of the rating data?"
   ]
  },
  {
   "cell_type": "code",
   "execution_count": null,
   "metadata": {
    "collapsed": true
   },
   "outputs": [],
   "source": []
  }
 ],
 "metadata": {
  "kernelspec": {
   "display_name": "Python 3",
   "language": "python",
   "name": "python3"
  },
  "language_info": {
   "codemirror_mode": {
    "name": "ipython",
    "version": 3
   },
   "file_extension": ".py",
   "mimetype": "text/x-python",
   "name": "python",
   "nbconvert_exporter": "python",
   "pygments_lexer": "ipython3",
   "version": "3.6.2"
  }
 },
 "nbformat": 4,
 "nbformat_minor": 1
}
