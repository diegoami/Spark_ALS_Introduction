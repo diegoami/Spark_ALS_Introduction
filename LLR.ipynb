{
 "cells": [
  {
   "cell_type": "code",
   "execution_count": 1,
   "metadata": {
    "collapsed": true
   },
   "outputs": [],
   "source": [
    "# adapted from https://github.com/tdunning/python-llr\n",
    "\n",
    "def cmp(a, b):\n",
    "    return (a > b) - (a < b) \n",
    "\n",
    "from collections import Counter \n",
    "import math\n",
    "from functools import reduce\n",
    "\n",
    "def denormEntropy(counts):\n",
    "    '''Computes the entropy of a list of counts scaled by the sum of the counts. If the inputs sum to one, this is just the normal definition of entropy'''\n",
    "    counts = list(counts)\n",
    "    total = float(sum(counts))\n",
    "    # Note tricky way to avoid 0*log(0)\n",
    "    return -sum([k * math.log(k/total + (k==0)) for k in counts])\n",
    "\n",
    "def llr_2x2(k11, k12, k21, k22):\n",
    "    '''Special case of llr with a 2x2 table'''\n",
    "    return 2 * abs(denormEntropy([k11+k12, k21+k22]) +\n",
    "                denormEntropy([k11+k21, k12+k22]) -\n",
    "                denormEntropy([k11, k12, k21, k22]))\n",
    "\n",
    "def llr_root(k11, k12, k21, k22):\n",
    "    '''Computes a score for a 2x2 contingency table, but then adds a sign according to whether k11 is larger (result is positive) or smaller (result is negative) than might be expected. The magnitude of the result can be roughly interpreted on a scale similar to standard deviations'''\n",
    "    row = k11 + k21\n",
    "    total = (k11 + k12 + k21 + k22)\n",
    "    sign = cmp(float(k11) / (k11 + k12), float(row) / total)\n",
    "    return math.copysign(math.sqrt(llr_2x2(k11, k12, k21, k22)), sign)"
   ]
  },
  {
   "cell_type": "code",
   "execution_count": 2,
   "metadata": {},
   "outputs": [],
   "source": [
    "import numpy as np\n",
    "\n",
    "rawdata = np.array([\n",
    "    [5,5,0,0,0,0],\n",
    "    [0,0,5,5,0,0],\n",
    "    [0,0,0,0,5,5],\n",
    "    [0,1,5,5,5,0],\n",
    "    [1,1,5,0,5,5],\n",
    "    [5,5,0,5,1,1],\n",
    "    [5,0,0,5,0,1],\n",
    "    [5,5,5,0,1,0]\n",
    "    ])\n",
    "    \n",
    "likes = np.array([[1 if x == 5 else 0 for x in row] for row in rawdata])\n",
    "dislikes = np.array([[1 if x == 1 else 0 for x in row] for row in rawdata])\n"
   ]
  },
  {
   "cell_type": "code",
   "execution_count": 3,
   "metadata": {},
   "outputs": [
    {
     "data": {
      "text/plain": [
       "array([[1, 1, 0, 0, 0, 0],\n",
       "       [1, 2, 0, 0, 0, 0],\n",
       "       [0, 0, 0, 0, 0, 0],\n",
       "       [0, 0, 0, 0, 0, 0],\n",
       "       [0, 0, 0, 0, 2, 1],\n",
       "       [0, 0, 0, 0, 1, 2]])"
      ]
     },
     "execution_count": 3,
     "metadata": {},
     "output_type": "execute_result"
    }
   ],
   "source": [
    "cooccurrence_matrix = np.dot(likes.transpose(), likes)\n",
    "cooccurrence_matrix\n",
    "cooccurrence_matrix_d = np.dot(dislikes.transpose(), dislikes)\n",
    "cooccurrence_matrix_d \n"
   ]
  },
  {
   "cell_type": "code",
   "execution_count": 4,
   "metadata": {},
   "outputs": [
    {
     "data": {
      "text/plain": [
       "array([[0, 1, 0, 0, 0, 0],\n",
       "       [1, 0, 0, 0, 0, 0],\n",
       "       [0, 0, 0, 0, 0, 0],\n",
       "       [0, 0, 0, 0, 0, 0],\n",
       "       [0, 0, 0, 0, 0, 1],\n",
       "       [0, 0, 0, 0, 1, 0]])"
      ]
     },
     "execution_count": 4,
     "metadata": {},
     "output_type": "execute_result"
    }
   ],
   "source": [
    "np.fill_diagonal(cooccurrence_matrix, 0)\n",
    "cooccurrence_matrix\n",
    "np.fill_diagonal(cooccurrence_matrix_d, 0)\n",
    "cooccurrence_matrix_d\n"
   ]
  },
  {
   "cell_type": "code",
   "execution_count": 5,
   "metadata": {},
   "outputs": [
    {
     "data": {
      "text/plain": [
       "(6, array([6, 5, 7, 6, 5, 3]), 32)"
      ]
     },
     "execution_count": 5,
     "metadata": {},
     "output_type": "execute_result"
    }
   ],
   "source": [
    "size = cooccurrence_matrix.shape[0]\n",
    "sums = np.array([row.sum() for row in cooccurrence_matrix[:,0:size]])\n",
    "total = sums.sum()\n",
    "size, sums, total"
   ]
  },
  {
   "cell_type": "code",
   "execution_count": 6,
   "metadata": {},
   "outputs": [
    {
     "data": {
      "text/plain": [
       "(6, array([1, 1, 0, 0, 1, 1]), 32)"
      ]
     },
     "execution_count": 6,
     "metadata": {},
     "output_type": "execute_result"
    }
   ],
   "source": [
    "size_d = cooccurrence_matrix_d.shape[0]\n",
    "sums_d = np.array([row.sum() for row in cooccurrence_matrix_d[:,0:size]])\n",
    "total_d = sums.sum()\n",
    "size_d, sums_d, total_d"
   ]
  },
  {
   "cell_type": "code",
   "execution_count": 7,
   "metadata": {},
   "outputs": [
    {
     "data": {
      "text/plain": [
       "6"
      ]
     },
     "execution_count": 7,
     "metadata": {},
     "output_type": "execute_result"
    }
   ],
   "source": [
    "size"
   ]
  },
  {
   "cell_type": "code",
   "execution_count": 8,
   "metadata": {},
   "outputs": [
    {
     "name": "stdout",
     "output_type": "stream",
     "text": [
      "0 0 -1.671630571360789\n",
      "0 1 2.033620752749888\n",
      "0 2 -0.4444608330501006\n",
      "0 3 0.7721212322079151\n",
      "0 4 -1.5102415112211136\n",
      "0 5 -1.1470194399358786\n",
      "1 0 2.033620752749888\n",
      "1 1 -1.3647652539835755\n",
      "1 2 -0.19582196118803194\n",
      "1 3 1.1920928955078125e-07\n",
      "1 4 -1.3647652539835755\n",
      "1 5 -1.0369825130804433\n",
      "2 0 -0.4444608330501006\n",
      "2 1 -0.19582196118803194\n",
      "2 2 -1.9932131287507497\n",
      "2 3 0.5199643772432565\n",
      "2 4 0.8219975087691875\n",
      "2 5 0.4161095064184788\n",
      "3 0 0.7721212322079151\n",
      "3 1 1.1920928955078125e-07\n",
      "3 2 0.5199643772432565\n",
      "3 3 -1.671630571360789\n",
      "3 4 1.1920928955078125e-07\n",
      "3 5 -1.1470194399358786\n",
      "4 0 -1.5102415112211136\n",
      "4 1 -1.3647652539835755\n",
      "4 2 0.8219975087691875\n",
      "4 3 1.1920928955078125e-07\n",
      "4 4 -1.3647652539835755\n",
      "4 5 2.027561328129231\n",
      "5 0 -1.1470194399358786\n",
      "5 1 -1.0369825130804433\n",
      "5 2 0.4161095064184788\n",
      "5 3 -1.1470194399358786\n",
      "5 4 2.027561328129231\n",
      "5 5 -0.7885438972362838\n"
     ]
    }
   ],
   "source": [
    "conc_mult = np.zeros((size, size))\n",
    "for i in range(0, size):\n",
    "    for j in range(0, size):\n",
    "        a_b = cooccurrence_matrix[i,j].tolist()\n",
    "        a_not_b = (sums[i] - a_b).tolist()\n",
    "        b_not_a = (sums[j] - a_b).tolist()\n",
    "        not_ab = (total - (a_b + sums[i] + sums[j])).tolist()\n",
    "        conc_mult[i,j] = llr_root(a_b, a_not_b, b_not_a, not_ab)\n",
    "        print(i, j, llr_root(a_b, a_not_b, b_not_a, not_ab))"
   ]
  },
  {
   "cell_type": "code",
   "execution_count": 9,
   "metadata": {},
   "outputs": [
    {
     "data": {
      "text/plain": [
       "array([[ -1.67163057e+00,   2.03362075e+00,  -4.44460833e-01,\n",
       "          7.72121232e-01,  -1.51024151e+00,  -1.14701944e+00],\n",
       "       [  2.03362075e+00,  -1.36476525e+00,  -1.95821961e-01,\n",
       "          1.19209290e-07,  -1.36476525e+00,  -1.03698251e+00],\n",
       "       [ -4.44460833e-01,  -1.95821961e-01,  -1.99321313e+00,\n",
       "          5.19964377e-01,   8.21997509e-01,   4.16109506e-01],\n",
       "       [  7.72121232e-01,   1.19209290e-07,   5.19964377e-01,\n",
       "         -1.67163057e+00,   1.19209290e-07,  -1.14701944e+00],\n",
       "       [ -1.51024151e+00,  -1.36476525e+00,   8.21997509e-01,\n",
       "          1.19209290e-07,  -1.36476525e+00,   2.02756133e+00],\n",
       "       [ -1.14701944e+00,  -1.03698251e+00,   4.16109506e-01,\n",
       "         -1.14701944e+00,   2.02756133e+00,  -7.88543897e-01]])"
      ]
     },
     "execution_count": 9,
     "metadata": {},
     "output_type": "execute_result"
    }
   ],
   "source": [
    "conc_mult "
   ]
  },
  {
   "cell_type": "code",
   "execution_count": 10,
   "metadata": {},
   "outputs": [
    {
     "data": {
      "text/plain": [
       "array([ 0.36199018,  0.6688555 , -0.64028279,  0.77212135, -2.87500677,\n",
       "       -2.18400195])"
      ]
     },
     "execution_count": 10,
     "metadata": {},
     "output_type": "execute_result"
    }
   ],
   "source": [
    "np.dot(conc_mult, likes[0,:].T)"
   ]
  },
  {
   "cell_type": "code",
   "execution_count": 11,
   "metadata": {
    "collapsed": true
   },
   "outputs": [],
   "source": [
    "rawdata = np.array([\n",
    "    [5,5,0,0,0,0],\n",
    "    [0,0,5,5,0,0],\n",
    "    [0,0,0,0,5,5],\n",
    "    [0,1,5,5,5,0],\n",
    "    [1,1,5,0,5,5],\n",
    "    [5,5,0,5,1,1],\n",
    "    [5,0,0,5,0,1],\n",
    "    [5,5,5,0,1,0]\n",
    "    ])"
   ]
  },
  {
   "cell_type": "code",
   "execution_count": 12,
   "metadata": {},
   "outputs": [
    {
     "data": {
      "text/plain": [
       "array([-3.10172178, -2.59756973, -0.75510611, -0.62705494,  1.48479358,\n",
       "        1.65512694])"
      ]
     },
     "execution_count": 12,
     "metadata": {},
     "output_type": "execute_result"
    }
   ],
   "source": [
    "np.dot(conc_mult, likes[4,:].T)"
   ]
  },
  {
   "cell_type": "code",
   "execution_count": 13,
   "metadata": {},
   "outputs": [
    {
     "name": "stdout",
     "output_type": "stream",
     "text": [
      "0 0 -1.671630571360789\n",
      "0 1 1.1920928955078125e-07\n",
      "0 2 -1.825093906345677\n",
      "0 3 -1.671630571360789\n",
      "0 4 -1.5102415112211136\n",
      "0 5 -1.1470194399358786\n",
      "1 0 1.1920928955078125e-07\n",
      "1 1 -1.3647652539835755\n",
      "1 2 -1.648455857370266\n",
      "1 3 -1.5102415112211136\n",
      "1 4 -1.3647652539835755\n",
      "1 5 -1.0369825130804433\n",
      "2 0 -1.825093906345677\n",
      "2 1 -1.648455857370266\n",
      "2 2 -1.9932131287507497\n",
      "2 3 -1.825093906345677\n",
      "2 4 -1.648455857370266\n",
      "2 5 -1.2514057472789795\n",
      "3 0 -1.671630571360789\n",
      "3 1 -1.5102415112211136\n",
      "3 2 -1.825093906345677\n",
      "3 3 -1.671630571360789\n",
      "3 4 -1.5102415112211136\n",
      "3 5 -1.1470194399358786\n",
      "4 0 -1.5102415112211136\n",
      "4 1 -1.3647652539835755\n",
      "4 2 -1.648455857370266\n",
      "4 3 -1.5102415112211136\n",
      "4 4 -1.3647652539835755\n",
      "4 5 0.7499903863888109\n",
      "5 0 -1.1470194399358786\n",
      "5 1 -1.0369825130804433\n",
      "5 2 -1.2514057472789795\n",
      "5 3 -1.1470194399358786\n",
      "5 4 0.7499903863888203\n",
      "5 5 -0.7885438972362838\n"
     ]
    }
   ],
   "source": [
    "conc_mult_d = np.zeros((size, size))\n",
    "for i in range(0, size):\n",
    "    for j in range(0, size):\n",
    "        a_b = cooccurrence_matrix_d[i,j].tolist()\n",
    "        a_not_b = (sums[i] - a_b).tolist()\n",
    "        b_not_a = (sums[j] - a_b).tolist()\n",
    "        not_ab = (total - (a_b + sums[i] + sums[j])).tolist()\n",
    "        conc_mult_d[i,j] = llr_root(a_b, a_not_b, b_not_a, not_ab)\n",
    "        print(i, j, llr_root(a_b, a_not_b, b_not_a, not_ab))"
   ]
  },
  {
   "cell_type": "code",
   "execution_count": 14,
   "metadata": {},
   "outputs": [
    {
     "name": "stdout",
     "output_type": "stream",
     "text": [
      "0 0 -1.671630571360789\n",
      "0 1 1.520155306996323\n",
      "0 2 -0.4444608330501006\n",
      "0 3 0.7721212322079151\n",
      "0 4 -1.5102415112211136\n",
      "0 5 -1.1470194399358786\n",
      "1 0 1.520155306996323\n",
      "1 1 -1.3647652539835755\n",
      "1 2 -0.19582196118803194\n",
      "1 3 1.1920928955078125e-07\n",
      "1 4 -1.3647652539835755\n",
      "1 5 -1.0369825130804433\n",
      "2 0 -0.4444608330501006\n",
      "2 1 -0.19582196118803194\n",
      "2 2 -1.9932131287507497\n",
      "2 3 0.5199643772432565\n",
      "2 4 0.8219975087691875\n",
      "2 5 0.4161095064184788\n",
      "3 0 0.7721212322079151\n",
      "3 1 1.1920928955078125e-07\n",
      "3 2 0.5199643772432565\n",
      "3 3 -1.671630571360789\n",
      "3 4 1.1920928955078125e-07\n",
      "3 5 -1.1470194399358786\n",
      "4 0 -1.5102415112211136\n",
      "4 1 -1.3647652539835755\n",
      "4 2 0.8219975087691875\n",
      "4 3 1.1920928955078125e-07\n",
      "4 4 -1.3647652539835755\n",
      "4 5 1.4677093811172777\n",
      "5 0 -1.1470194399358786\n",
      "5 1 -1.0369825130804433\n",
      "5 2 0.4161095064184788\n",
      "5 3 -1.1470194399358786\n",
      "5 4 1.4677093811172777\n",
      "5 5 -0.7885438972362838\n"
     ]
    }
   ],
   "source": [
    "for i in range(0, size):\n",
    "    for j in range(0, size):\n",
    "        a_b = cooccurrence_matrix[i,j].tolist()\n",
    "        a_not_b = (sums[i] + cooccurrence_matrix_d[i,j] - a_b).tolist()\n",
    "        b_not_a = (sums[j] + cooccurrence_matrix_d[j,i] - a_b).tolist()\n",
    "        not_ab = (total - (a_b + sums[i] + sums[j])).tolist()\n",
    "        print(i, j, llr_root(a_b, a_not_b, b_not_a, not_ab))"
   ]
  },
  {
   "cell_type": "code",
   "execution_count": 15,
   "metadata": {},
   "outputs": [
    {
     "data": {
      "text/plain": [
       "array([[ -1.67163057e+00,   1.19209290e-07,  -1.82509391e+00,\n",
       "         -1.67163057e+00,  -1.51024151e+00,  -1.14701944e+00],\n",
       "       [  1.19209290e-07,  -1.36476525e+00,  -1.64845586e+00,\n",
       "         -1.51024151e+00,  -1.36476525e+00,  -1.03698251e+00],\n",
       "       [ -1.82509391e+00,  -1.64845586e+00,  -1.99321313e+00,\n",
       "         -1.82509391e+00,  -1.64845586e+00,  -1.25140575e+00],\n",
       "       [ -1.67163057e+00,  -1.51024151e+00,  -1.82509391e+00,\n",
       "         -1.67163057e+00,  -1.51024151e+00,  -1.14701944e+00],\n",
       "       [ -1.51024151e+00,  -1.36476525e+00,  -1.64845586e+00,\n",
       "         -1.51024151e+00,  -1.36476525e+00,   7.49990386e-01],\n",
       "       [ -1.14701944e+00,  -1.03698251e+00,  -1.25140575e+00,\n",
       "         -1.14701944e+00,   7.49990386e-01,  -7.88543897e-01]])"
      ]
     },
     "execution_count": 15,
     "metadata": {},
     "output_type": "execute_result"
    }
   ],
   "source": [
    "conc_mult_d"
   ]
  },
  {
   "cell_type": "markdown",
   "metadata": {
    "collapsed": true
   },
   "source": [
    "### Exercise\n",
    "\n",
    "So far we've used the \"people who liked A were unusually likely to like B\" statistics to make predictions, but we've ignored the information we have about dislikes. Can you find a way to improve the results by leveraging the 1 values in the rawdata (the dislikes)?"
   ]
  },
  {
   "cell_type": "code",
   "execution_count": 16,
   "metadata": {},
   "outputs": [
    {
     "name": "stdout",
     "output_type": "stream",
     "text": [
      "[[0 0 0 0 0 0]\n",
      " [1 1 1 1 1 1]\n",
      " [2 2 2 2 2 2]\n",
      " [3 3 3 3 3 3]\n",
      " [4 4 4 4 4 4]\n",
      " [5 5 5 5 5 5]] [[0 1 2 3 4 5]\n",
      " [0 1 2 3 4 5]\n",
      " [0 1 2 3 4 5]\n",
      " [0 1 2 3 4 5]\n",
      " [0 1 2 3 4 5]\n",
      " [0 1 2 3 4 5]]\n",
      "[[0, 3, 1, 2, 0, 0], [3, 0, 1, 1, 0, 0], [1, 1, 0, 2, 2, 1], [2, 1, 2, 0, 1, 0], [0, 0, 2, 1, 0, 2], [0, 0, 1, 0, 2, 0]] [[6, 3, 5, 4, 6, 6], [2, 5, 4, 4, 5, 5], [6, 6, 7, 5, 5, 6], [4, 5, 4, 6, 5, 6], [5, 5, 3, 4, 5, 3], [3, 3, 2, 3, 1, 3]] [[6, 2, 6, 4, 5, 3], [3, 5, 6, 5, 5, 3], [5, 4, 7, 4, 3, 2], [4, 4, 5, 6, 4, 3], [6, 5, 5, 5, 5, 1], [6, 5, 6, 6, 3, 3]] [[20, 18, 18, 18, 21, 23], [18, 22, 19, 20, 22, 24], [18, 19, 18, 17, 18, 21], [18, 20, 17, 20, 20, 23], [21, 22, 18, 20, 22, 22], [23, 24, 21, 23, 22, 26]]\n"
     ]
    },
    {
     "ename": "TypeError",
     "evalue": "float() argument must be a string or a number, not 'list'",
     "output_type": "error",
     "traceback": [
      "\u001b[0;31m---------------------------------------------------------------------------\u001b[0m",
      "\u001b[0;31mTypeError\u001b[0m                                 Traceback (most recent call last)",
      "\u001b[0;32m<ipython-input-16-e87d776d00ca>\u001b[0m in \u001b[0;36m<module>\u001b[0;34m()\u001b[0m\n\u001b[1;32m     11\u001b[0m     \u001b[0;32mreturn\u001b[0m \u001b[0mcooccurrence_matrix\u001b[0m\u001b[0;34m[\u001b[0m\u001b[0mi\u001b[0m\u001b[0;34m,\u001b[0m\u001b[0mj\u001b[0m\u001b[0;34m]\u001b[0m\u001b[0;34m\u001b[0m\u001b[0m\n\u001b[1;32m     12\u001b[0m \u001b[0;34m\u001b[0m\u001b[0m\n\u001b[0;32m---> 13\u001b[0;31m \u001b[0mnp\u001b[0m\u001b[0;34m.\u001b[0m\u001b[0mfromfunction\u001b[0m\u001b[0;34m(\u001b[0m\u001b[0;32mlambda\u001b[0m \u001b[0mi\u001b[0m\u001b[0;34m,\u001b[0m \u001b[0mj\u001b[0m \u001b[0;34m:\u001b[0m  \u001b[0mget_llr_likes\u001b[0m\u001b[0;34m(\u001b[0m\u001b[0mi\u001b[0m\u001b[0;34m,\u001b[0m\u001b[0mj\u001b[0m\u001b[0;34m)\u001b[0m\u001b[0;34m,\u001b[0m \u001b[0;34m(\u001b[0m\u001b[0mcooccurrence_matrix\u001b[0m\u001b[0;34m.\u001b[0m\u001b[0mshape\u001b[0m\u001b[0;34m[\u001b[0m\u001b[0;36m0\u001b[0m\u001b[0;34m]\u001b[0m\u001b[0;34m,\u001b[0m\u001b[0mcooccurrence_matrix\u001b[0m\u001b[0;34m.\u001b[0m\u001b[0mshape\u001b[0m\u001b[0;34m[\u001b[0m\u001b[0;36m1\u001b[0m\u001b[0;34m]\u001b[0m\u001b[0;34m)\u001b[0m \u001b[0;34m,\u001b[0m \u001b[0mdtype\u001b[0m\u001b[0;34m=\u001b[0m\u001b[0mint\u001b[0m\u001b[0;34m)\u001b[0m\u001b[0;34m\u001b[0m\u001b[0m\n\u001b[0m",
      "\u001b[0;32m~/anaconda3/envs/spark/lib/python3.6/site-packages/numpy/core/numeric.py\u001b[0m in \u001b[0;36mfromfunction\u001b[0;34m(function, shape, **kwargs)\u001b[0m\n\u001b[1;32m   2130\u001b[0m     \u001b[0mdtype\u001b[0m \u001b[0;34m=\u001b[0m \u001b[0mkwargs\u001b[0m\u001b[0;34m.\u001b[0m\u001b[0mpop\u001b[0m\u001b[0;34m(\u001b[0m\u001b[0;34m'dtype'\u001b[0m\u001b[0;34m,\u001b[0m \u001b[0mfloat\u001b[0m\u001b[0;34m)\u001b[0m\u001b[0;34m\u001b[0m\u001b[0m\n\u001b[1;32m   2131\u001b[0m     \u001b[0margs\u001b[0m \u001b[0;34m=\u001b[0m \u001b[0mindices\u001b[0m\u001b[0;34m(\u001b[0m\u001b[0mshape\u001b[0m\u001b[0;34m,\u001b[0m \u001b[0mdtype\u001b[0m\u001b[0;34m=\u001b[0m\u001b[0mdtype\u001b[0m\u001b[0;34m)\u001b[0m\u001b[0;34m\u001b[0m\u001b[0m\n\u001b[0;32m-> 2132\u001b[0;31m     \u001b[0;32mreturn\u001b[0m \u001b[0mfunction\u001b[0m\u001b[0;34m(\u001b[0m\u001b[0;34m*\u001b[0m\u001b[0margs\u001b[0m\u001b[0;34m,\u001b[0m \u001b[0;34m**\u001b[0m\u001b[0mkwargs\u001b[0m\u001b[0;34m)\u001b[0m\u001b[0;34m\u001b[0m\u001b[0m\n\u001b[0m\u001b[1;32m   2133\u001b[0m \u001b[0;34m\u001b[0m\u001b[0m\n\u001b[1;32m   2134\u001b[0m \u001b[0;34m\u001b[0m\u001b[0m\n",
      "\u001b[0;32m<ipython-input-16-e87d776d00ca>\u001b[0m in \u001b[0;36m<lambda>\u001b[0;34m(i, j)\u001b[0m\n\u001b[1;32m     11\u001b[0m     \u001b[0;32mreturn\u001b[0m \u001b[0mcooccurrence_matrix\u001b[0m\u001b[0;34m[\u001b[0m\u001b[0mi\u001b[0m\u001b[0;34m,\u001b[0m\u001b[0mj\u001b[0m\u001b[0;34m]\u001b[0m\u001b[0;34m\u001b[0m\u001b[0m\n\u001b[1;32m     12\u001b[0m \u001b[0;34m\u001b[0m\u001b[0m\n\u001b[0;32m---> 13\u001b[0;31m \u001b[0mnp\u001b[0m\u001b[0;34m.\u001b[0m\u001b[0mfromfunction\u001b[0m\u001b[0;34m(\u001b[0m\u001b[0;32mlambda\u001b[0m \u001b[0mi\u001b[0m\u001b[0;34m,\u001b[0m \u001b[0mj\u001b[0m \u001b[0;34m:\u001b[0m  \u001b[0mget_llr_likes\u001b[0m\u001b[0;34m(\u001b[0m\u001b[0mi\u001b[0m\u001b[0;34m,\u001b[0m\u001b[0mj\u001b[0m\u001b[0;34m)\u001b[0m\u001b[0;34m,\u001b[0m \u001b[0;34m(\u001b[0m\u001b[0mcooccurrence_matrix\u001b[0m\u001b[0;34m.\u001b[0m\u001b[0mshape\u001b[0m\u001b[0;34m[\u001b[0m\u001b[0;36m0\u001b[0m\u001b[0;34m]\u001b[0m\u001b[0;34m,\u001b[0m\u001b[0mcooccurrence_matrix\u001b[0m\u001b[0;34m.\u001b[0m\u001b[0mshape\u001b[0m\u001b[0;34m[\u001b[0m\u001b[0;36m1\u001b[0m\u001b[0;34m]\u001b[0m\u001b[0;34m)\u001b[0m \u001b[0;34m,\u001b[0m \u001b[0mdtype\u001b[0m\u001b[0;34m=\u001b[0m\u001b[0mint\u001b[0m\u001b[0;34m)\u001b[0m\u001b[0;34m\u001b[0m\u001b[0m\n\u001b[0m",
      "\u001b[0;32m<ipython-input-16-e87d776d00ca>\u001b[0m in \u001b[0;36mget_llr_likes\u001b[0;34m(i, j)\u001b[0m\n\u001b[1;32m      6\u001b[0m     \u001b[0mnot_ab\u001b[0m \u001b[0;34m=\u001b[0m \u001b[0;34m(\u001b[0m\u001b[0mtotal\u001b[0m \u001b[0;34m-\u001b[0m \u001b[0;34m(\u001b[0m\u001b[0ma_b\u001b[0m \u001b[0;34m+\u001b[0m \u001b[0msums\u001b[0m\u001b[0;34m[\u001b[0m\u001b[0mi\u001b[0m\u001b[0;34m]\u001b[0m \u001b[0;34m+\u001b[0m \u001b[0msums\u001b[0m\u001b[0;34m[\u001b[0m\u001b[0mj\u001b[0m\u001b[0;34m]\u001b[0m\u001b[0;34m)\u001b[0m\u001b[0;34m)\u001b[0m\u001b[0;34m.\u001b[0m\u001b[0mtolist\u001b[0m\u001b[0;34m(\u001b[0m\u001b[0;34m)\u001b[0m\u001b[0;34m\u001b[0m\u001b[0m\n\u001b[1;32m      7\u001b[0m     \u001b[0mprint\u001b[0m\u001b[0;34m(\u001b[0m\u001b[0ma_b\u001b[0m\u001b[0;34m,\u001b[0m \u001b[0ma_not_b\u001b[0m\u001b[0;34m,\u001b[0m \u001b[0mb_not_a\u001b[0m\u001b[0;34m,\u001b[0m \u001b[0mnot_ab\u001b[0m\u001b[0;34m)\u001b[0m\u001b[0;34m\u001b[0m\u001b[0m\n\u001b[0;32m----> 8\u001b[0;31m     \u001b[0;32mreturn\u001b[0m \u001b[0mllr_root\u001b[0m\u001b[0;34m(\u001b[0m\u001b[0ma_b\u001b[0m\u001b[0;34m,\u001b[0m \u001b[0ma_not_b\u001b[0m\u001b[0;34m,\u001b[0m \u001b[0mb_not_a\u001b[0m\u001b[0;34m,\u001b[0m \u001b[0mnot_ab\u001b[0m\u001b[0;34m)\u001b[0m\u001b[0;34m\u001b[0m\u001b[0m\n\u001b[0m\u001b[1;32m      9\u001b[0m \u001b[0;32mdef\u001b[0m \u001b[0mget_one_like\u001b[0m\u001b[0;34m(\u001b[0m\u001b[0mi\u001b[0m\u001b[0;34m,\u001b[0m \u001b[0mj\u001b[0m\u001b[0;34m)\u001b[0m\u001b[0;34m:\u001b[0m\u001b[0;34m\u001b[0m\u001b[0m\n\u001b[1;32m     10\u001b[0m \u001b[0;34m\u001b[0m\u001b[0m\n",
      "\u001b[0;32m<ipython-input-1-71206b4f6ecd>\u001b[0m in \u001b[0;36mllr_root\u001b[0;34m(k11, k12, k21, k22)\u001b[0m\n\u001b[1;32m     25\u001b[0m     \u001b[0mrow\u001b[0m \u001b[0;34m=\u001b[0m \u001b[0mk11\u001b[0m \u001b[0;34m+\u001b[0m \u001b[0mk21\u001b[0m\u001b[0;34m\u001b[0m\u001b[0m\n\u001b[1;32m     26\u001b[0m     \u001b[0mtotal\u001b[0m \u001b[0;34m=\u001b[0m \u001b[0;34m(\u001b[0m\u001b[0mk11\u001b[0m \u001b[0;34m+\u001b[0m \u001b[0mk12\u001b[0m \u001b[0;34m+\u001b[0m \u001b[0mk21\u001b[0m \u001b[0;34m+\u001b[0m \u001b[0mk22\u001b[0m\u001b[0;34m)\u001b[0m\u001b[0;34m\u001b[0m\u001b[0m\n\u001b[0;32m---> 27\u001b[0;31m     \u001b[0msign\u001b[0m \u001b[0;34m=\u001b[0m \u001b[0mcmp\u001b[0m\u001b[0;34m(\u001b[0m\u001b[0mfloat\u001b[0m\u001b[0;34m(\u001b[0m\u001b[0mk11\u001b[0m\u001b[0;34m)\u001b[0m \u001b[0;34m/\u001b[0m \u001b[0;34m(\u001b[0m\u001b[0mk11\u001b[0m \u001b[0;34m+\u001b[0m \u001b[0mk12\u001b[0m\u001b[0;34m)\u001b[0m\u001b[0;34m,\u001b[0m \u001b[0mfloat\u001b[0m\u001b[0;34m(\u001b[0m\u001b[0mrow\u001b[0m\u001b[0;34m)\u001b[0m \u001b[0;34m/\u001b[0m \u001b[0mtotal\u001b[0m\u001b[0;34m)\u001b[0m\u001b[0;34m\u001b[0m\u001b[0m\n\u001b[0m\u001b[1;32m     28\u001b[0m     \u001b[0;32mreturn\u001b[0m \u001b[0mmath\u001b[0m\u001b[0;34m.\u001b[0m\u001b[0mcopysign\u001b[0m\u001b[0;34m(\u001b[0m\u001b[0mmath\u001b[0m\u001b[0;34m.\u001b[0m\u001b[0msqrt\u001b[0m\u001b[0;34m(\u001b[0m\u001b[0mllr_2x2\u001b[0m\u001b[0;34m(\u001b[0m\u001b[0mk11\u001b[0m\u001b[0;34m,\u001b[0m \u001b[0mk12\u001b[0m\u001b[0;34m,\u001b[0m \u001b[0mk21\u001b[0m\u001b[0;34m,\u001b[0m \u001b[0mk22\u001b[0m\u001b[0;34m)\u001b[0m\u001b[0;34m)\u001b[0m\u001b[0;34m,\u001b[0m \u001b[0msign\u001b[0m\u001b[0;34m)\u001b[0m\u001b[0;34m\u001b[0m\u001b[0m\n",
      "\u001b[0;31mTypeError\u001b[0m: float() argument must be a string or a number, not 'list'"
     ]
    }
   ],
   "source": [
    "def get_llr_likes(i, j):\n",
    "    a_b = cooccurrence_matrix[i,j].tolist()\n",
    "    print(i,j)\n",
    "    a_not_b = (sums[i] - a_b).tolist()\n",
    "    b_not_a = (sums[j] - a_b).tolist()\n",
    "    not_ab = (total - (a_b + sums[i] + sums[j])).tolist()\n",
    "    print(a_b, a_not_b, b_not_a, not_ab) \n",
    "    return llr_root(a_b, a_not_b, b_not_a, not_ab)\n",
    "def get_one_like(i, j):\n",
    " \n",
    "    return cooccurrence_matrix[i,j]\n",
    "\n",
    "np.fromfunction(lambda i, j :  get_llr_likes(i,j), (cooccurrence_matrix.shape[0],cooccurrence_matrix.shape[1]) , dtype=int)"
   ]
  },
  {
   "cell_type": "code",
   "execution_count": null,
   "metadata": {},
   "outputs": [],
   "source": [
    " cooccurrence_matrix"
   ]
  },
  {
   "cell_type": "code",
   "execution_count": null,
   "metadata": {},
   "outputs": [],
   "source": [
    "conc_mult_d , conc_mult"
   ]
  },
  {
   "cell_type": "code",
   "execution_count": null,
   "metadata": {
    "collapsed": true
   },
   "outputs": [],
   "source": [
    "np.dot(conc_mult)"
   ]
  }
 ],
 "metadata": {
  "kernelspec": {
   "display_name": "Python 3",
   "language": "python",
   "name": "python3"
  },
  "language_info": {
   "codemirror_mode": {
    "name": "ipython",
    "version": 3
   },
   "file_extension": ".py",
   "mimetype": "text/x-python",
   "name": "python",
   "nbconvert_exporter": "python",
   "pygments_lexer": "ipython3",
   "version": "3.6.2"
  }
 },
 "nbformat": 4,
 "nbformat_minor": 1
}
